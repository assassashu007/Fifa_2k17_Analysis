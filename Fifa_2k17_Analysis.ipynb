{
 "cells": [
  {
   "cell_type": "code",
   "execution_count": 2,
   "metadata": {},
   "outputs": [],
   "source": [
    "import pandas as pd\n",
    "import os\n",
    "\n",
    "path = os.getcwd() + \"\\dataset\\complete-fifa-2017-player-dataset-global\""
   ]
  },
  {
   "cell_type": "code",
   "execution_count": 220,
   "metadata": {},
   "outputs": [],
   "source": [
    "full_data = pd.read_csv(path+\"\\FullData.csv\")"
   ]
  },
  {
   "cell_type": "code",
   "execution_count": 221,
   "metadata": {},
   "outputs": [
    {
     "data": {
      "text/html": [
       "<div>\n",
       "<style scoped>\n",
       "    .dataframe tbody tr th:only-of-type {\n",
       "        vertical-align: middle;\n",
       "    }\n",
       "\n",
       "    .dataframe tbody tr th {\n",
       "        vertical-align: top;\n",
       "    }\n",
       "\n",
       "    .dataframe thead th {\n",
       "        text-align: right;\n",
       "    }\n",
       "</style>\n",
       "<table border=\"1\" class=\"dataframe\">\n",
       "  <thead>\n",
       "    <tr style=\"text-align: right;\">\n",
       "      <th></th>\n",
       "      <th>Name</th>\n",
       "      <th>Nationality</th>\n",
       "      <th>National_Position</th>\n",
       "      <th>National_Kit</th>\n",
       "      <th>Club</th>\n",
       "      <th>Club_Position</th>\n",
       "      <th>Club_Kit</th>\n",
       "      <th>Club_Joining</th>\n",
       "      <th>Contract_Expiry</th>\n",
       "      <th>Rating</th>\n",
       "      <th>...</th>\n",
       "      <th>Long_Shots</th>\n",
       "      <th>Curve</th>\n",
       "      <th>Freekick_Accuracy</th>\n",
       "      <th>Penalties</th>\n",
       "      <th>Volleys</th>\n",
       "      <th>GK_Positioning</th>\n",
       "      <th>GK_Diving</th>\n",
       "      <th>GK_Kicking</th>\n",
       "      <th>GK_Handling</th>\n",
       "      <th>GK_Reflexes</th>\n",
       "    </tr>\n",
       "  </thead>\n",
       "  <tbody>\n",
       "    <tr>\n",
       "      <th>0</th>\n",
       "      <td>Cristiano Ronaldo</td>\n",
       "      <td>Portugal</td>\n",
       "      <td>LS</td>\n",
       "      <td>7.0</td>\n",
       "      <td>Real Madrid</td>\n",
       "      <td>LW</td>\n",
       "      <td>7.0</td>\n",
       "      <td>07/01/2009</td>\n",
       "      <td>2021.0</td>\n",
       "      <td>94</td>\n",
       "      <td>...</td>\n",
       "      <td>90</td>\n",
       "      <td>81</td>\n",
       "      <td>76</td>\n",
       "      <td>85</td>\n",
       "      <td>88</td>\n",
       "      <td>14</td>\n",
       "      <td>7</td>\n",
       "      <td>15</td>\n",
       "      <td>11</td>\n",
       "      <td>11</td>\n",
       "    </tr>\n",
       "    <tr>\n",
       "      <th>1</th>\n",
       "      <td>Lionel Messi</td>\n",
       "      <td>Argentina</td>\n",
       "      <td>RW</td>\n",
       "      <td>10.0</td>\n",
       "      <td>FC Barcelona</td>\n",
       "      <td>RW</td>\n",
       "      <td>10.0</td>\n",
       "      <td>07/01/2004</td>\n",
       "      <td>2018.0</td>\n",
       "      <td>93</td>\n",
       "      <td>...</td>\n",
       "      <td>88</td>\n",
       "      <td>89</td>\n",
       "      <td>90</td>\n",
       "      <td>74</td>\n",
       "      <td>85</td>\n",
       "      <td>14</td>\n",
       "      <td>6</td>\n",
       "      <td>15</td>\n",
       "      <td>11</td>\n",
       "      <td>8</td>\n",
       "    </tr>\n",
       "    <tr>\n",
       "      <th>2</th>\n",
       "      <td>Neymar</td>\n",
       "      <td>Brazil</td>\n",
       "      <td>LW</td>\n",
       "      <td>10.0</td>\n",
       "      <td>FC Barcelona</td>\n",
       "      <td>LW</td>\n",
       "      <td>11.0</td>\n",
       "      <td>07/01/2013</td>\n",
       "      <td>2021.0</td>\n",
       "      <td>92</td>\n",
       "      <td>...</td>\n",
       "      <td>77</td>\n",
       "      <td>79</td>\n",
       "      <td>84</td>\n",
       "      <td>81</td>\n",
       "      <td>83</td>\n",
       "      <td>15</td>\n",
       "      <td>9</td>\n",
       "      <td>15</td>\n",
       "      <td>9</td>\n",
       "      <td>11</td>\n",
       "    </tr>\n",
       "    <tr>\n",
       "      <th>3</th>\n",
       "      <td>Luis Suárez</td>\n",
       "      <td>Uruguay</td>\n",
       "      <td>LS</td>\n",
       "      <td>9.0</td>\n",
       "      <td>FC Barcelona</td>\n",
       "      <td>ST</td>\n",
       "      <td>9.0</td>\n",
       "      <td>07/11/2014</td>\n",
       "      <td>2021.0</td>\n",
       "      <td>92</td>\n",
       "      <td>...</td>\n",
       "      <td>86</td>\n",
       "      <td>86</td>\n",
       "      <td>84</td>\n",
       "      <td>85</td>\n",
       "      <td>88</td>\n",
       "      <td>33</td>\n",
       "      <td>27</td>\n",
       "      <td>31</td>\n",
       "      <td>25</td>\n",
       "      <td>37</td>\n",
       "    </tr>\n",
       "    <tr>\n",
       "      <th>4</th>\n",
       "      <td>Manuel Neuer</td>\n",
       "      <td>Germany</td>\n",
       "      <td>GK</td>\n",
       "      <td>1.0</td>\n",
       "      <td>FC Bayern</td>\n",
       "      <td>GK</td>\n",
       "      <td>1.0</td>\n",
       "      <td>07/01/2011</td>\n",
       "      <td>2021.0</td>\n",
       "      <td>92</td>\n",
       "      <td>...</td>\n",
       "      <td>16</td>\n",
       "      <td>14</td>\n",
       "      <td>11</td>\n",
       "      <td>47</td>\n",
       "      <td>11</td>\n",
       "      <td>91</td>\n",
       "      <td>89</td>\n",
       "      <td>95</td>\n",
       "      <td>90</td>\n",
       "      <td>89</td>\n",
       "    </tr>\n",
       "  </tbody>\n",
       "</table>\n",
       "<p>5 rows × 53 columns</p>\n",
       "</div>"
      ],
      "text/plain": [
       "                Name Nationality National_Position  National_Kit  \\\n",
       "0  Cristiano Ronaldo    Portugal                LS           7.0   \n",
       "1       Lionel Messi   Argentina                RW          10.0   \n",
       "2             Neymar      Brazil                LW          10.0   \n",
       "3        Luis Suárez     Uruguay                LS           9.0   \n",
       "4       Manuel Neuer     Germany                GK           1.0   \n",
       "\n",
       "           Club Club_Position  Club_Kit Club_Joining  Contract_Expiry  Rating  \\\n",
       "0   Real Madrid            LW       7.0   07/01/2009           2021.0      94   \n",
       "1  FC Barcelona            RW      10.0   07/01/2004           2018.0      93   \n",
       "2  FC Barcelona            LW      11.0   07/01/2013           2021.0      92   \n",
       "3  FC Barcelona            ST       9.0   07/11/2014           2021.0      92   \n",
       "4     FC Bayern            GK       1.0   07/01/2011           2021.0      92   \n",
       "\n",
       "      ...      Long_Shots Curve Freekick_Accuracy Penalties  Volleys  \\\n",
       "0     ...              90    81                76        85       88   \n",
       "1     ...              88    89                90        74       85   \n",
       "2     ...              77    79                84        81       83   \n",
       "3     ...              86    86                84        85       88   \n",
       "4     ...              16    14                11        47       11   \n",
       "\n",
       "  GK_Positioning GK_Diving  GK_Kicking  GK_Handling  GK_Reflexes  \n",
       "0             14         7          15           11           11  \n",
       "1             14         6          15           11            8  \n",
       "2             15         9          15            9           11  \n",
       "3             33        27          31           25           37  \n",
       "4             91        89          95           90           89  \n",
       "\n",
       "[5 rows x 53 columns]"
      ]
     },
     "execution_count": 221,
     "metadata": {},
     "output_type": "execute_result"
    }
   ],
   "source": [
    "full_data.head(5)"
   ]
  },
  {
   "cell_type": "code",
   "execution_count": 222,
   "metadata": {},
   "outputs": [
    {
     "data": {
      "text/plain": [
       "Index(['Name', 'Nationality', 'National_Position', 'National_Kit', 'Club',\n",
       "       'Club_Position', 'Club_Kit', 'Club_Joining', 'Contract_Expiry',\n",
       "       'Rating', 'Height', 'Weight', 'Preffered_Foot', 'Birth_Date', 'Age',\n",
       "       'Preffered_Position', 'Work_Rate', 'Weak_foot', 'Skill_Moves',\n",
       "       'Ball_Control', 'Dribbling', 'Marking', 'Sliding_Tackle',\n",
       "       'Standing_Tackle', 'Aggression', 'Reactions', 'Attacking_Position',\n",
       "       'Interceptions', 'Vision', 'Composure', 'Crossing', 'Short_Pass',\n",
       "       'Long_Pass', 'Acceleration', 'Speed', 'Stamina', 'Strength', 'Balance',\n",
       "       'Agility', 'Jumping', 'Heading', 'Shot_Power', 'Finishing',\n",
       "       'Long_Shots', 'Curve', 'Freekick_Accuracy', 'Penalties', 'Volleys',\n",
       "       'GK_Positioning', 'GK_Diving', 'GK_Kicking', 'GK_Handling',\n",
       "       'GK_Reflexes'],\n",
       "      dtype='object')"
      ]
     },
     "execution_count": 222,
     "metadata": {},
     "output_type": "execute_result"
    }
   ],
   "source": [
    "full_data.columns"
   ]
  },
  {
   "cell_type": "code",
   "execution_count": 223,
   "metadata": {},
   "outputs": [
    {
     "data": {
      "text/plain": [
       "(17588, 53)"
      ]
     },
     "execution_count": 223,
     "metadata": {},
     "output_type": "execute_result"
    }
   ],
   "source": [
    "full_data.shape"
   ]
  },
  {
   "cell_type": "code",
   "execution_count": 225,
   "metadata": {},
   "outputs": [
    {
     "data": {
      "text/html": [
       "<div>\n",
       "<style scoped>\n",
       "    .dataframe tbody tr th:only-of-type {\n",
       "        vertical-align: middle;\n",
       "    }\n",
       "\n",
       "    .dataframe tbody tr th {\n",
       "        vertical-align: top;\n",
       "    }\n",
       "\n",
       "    .dataframe thead th {\n",
       "        text-align: right;\n",
       "    }\n",
       "</style>\n",
       "<table border=\"1\" class=\"dataframe\">\n",
       "  <thead>\n",
       "    <tr style=\"text-align: right;\">\n",
       "      <th></th>\n",
       "      <th>Name</th>\n",
       "      <th>url</th>\n",
       "    </tr>\n",
       "  </thead>\n",
       "  <tbody>\n",
       "    <tr>\n",
       "      <th>0</th>\n",
       "      <td>FC Bayern</td>\n",
       "      <td>/team/21/fc-bayern/</td>\n",
       "    </tr>\n",
       "    <tr>\n",
       "      <th>1</th>\n",
       "      <td>Real Madrid</td>\n",
       "      <td>/team/243/real-madrid/</td>\n",
       "    </tr>\n",
       "    <tr>\n",
       "      <th>2</th>\n",
       "      <td>FC Barcelona</td>\n",
       "      <td>/team/241/fc-barcelona/</td>\n",
       "    </tr>\n",
       "    <tr>\n",
       "      <th>3</th>\n",
       "      <td>Juventus</td>\n",
       "      <td>/team/45/juventus/</td>\n",
       "    </tr>\n",
       "    <tr>\n",
       "      <th>4</th>\n",
       "      <td>Manchester Utd</td>\n",
       "      <td>/team/11/manchester-utd/</td>\n",
       "    </tr>\n",
       "  </tbody>\n",
       "</table>\n",
       "</div>"
      ],
      "text/plain": [
       "             Name                       url\n",
       "0       FC Bayern       /team/21/fc-bayern/\n",
       "1     Real Madrid    /team/243/real-madrid/\n",
       "2    FC Barcelona   /team/241/fc-barcelona/\n",
       "3        Juventus        /team/45/juventus/\n",
       "4  Manchester Utd  /team/11/manchester-utd/"
      ]
     },
     "execution_count": 225,
     "metadata": {},
     "output_type": "execute_result"
    }
   ],
   "source": [
    "club_names = pd.read_csv(path+\"\\ClubNames.csv\")\n",
    "club_names.head(5)"
   ]
  },
  {
   "cell_type": "code",
   "execution_count": 226,
   "metadata": {},
   "outputs": [
    {
     "data": {
      "text/plain": [
       "Name    0\n",
       "url     0\n",
       "dtype: int64"
      ]
     },
     "execution_count": 226,
     "metadata": {},
     "output_type": "execute_result"
    }
   ],
   "source": [
    "club_names.isnull().sum()"
   ]
  },
  {
   "cell_type": "code",
   "execution_count": 9,
   "metadata": {},
   "outputs": [
    {
     "data": {
      "text/plain": [
       "(633, 2)"
      ]
     },
     "execution_count": 9,
     "metadata": {},
     "output_type": "execute_result"
    }
   ],
   "source": [
    "club_names.shape"
   ]
  },
  {
   "cell_type": "code",
   "execution_count": 227,
   "metadata": {},
   "outputs": [
    {
     "data": {
      "text/html": [
       "<div>\n",
       "<style scoped>\n",
       "    .dataframe tbody tr th:only-of-type {\n",
       "        vertical-align: middle;\n",
       "    }\n",
       "\n",
       "    .dataframe tbody tr th {\n",
       "        vertical-align: top;\n",
       "    }\n",
       "\n",
       "    .dataframe thead th {\n",
       "        text-align: right;\n",
       "    }\n",
       "</style>\n",
       "<table border=\"1\" class=\"dataframe\">\n",
       "  <thead>\n",
       "    <tr style=\"text-align: right;\">\n",
       "      <th></th>\n",
       "      <th>Name</th>\n",
       "      <th>url</th>\n",
       "    </tr>\n",
       "  </thead>\n",
       "  <tbody>\n",
       "    <tr>\n",
       "      <th>0</th>\n",
       "      <td>Spain</td>\n",
       "      <td>/team/1362/spain/</td>\n",
       "    </tr>\n",
       "    <tr>\n",
       "      <th>1</th>\n",
       "      <td>Germany</td>\n",
       "      <td>/team/1337/germany/</td>\n",
       "    </tr>\n",
       "    <tr>\n",
       "      <th>2</th>\n",
       "      <td>Brazil</td>\n",
       "      <td>/team/1370/brazil/</td>\n",
       "    </tr>\n",
       "    <tr>\n",
       "      <th>3</th>\n",
       "      <td>Belgium</td>\n",
       "      <td>/team/1325/belgium/</td>\n",
       "    </tr>\n",
       "    <tr>\n",
       "      <th>4</th>\n",
       "      <td>Argentina</td>\n",
       "      <td>/team/1369/argentina/</td>\n",
       "    </tr>\n",
       "  </tbody>\n",
       "</table>\n",
       "</div>"
      ],
      "text/plain": [
       "        Name                    url\n",
       "0      Spain      /team/1362/spain/\n",
       "1    Germany    /team/1337/germany/\n",
       "2     Brazil     /team/1370/brazil/\n",
       "3    Belgium    /team/1325/belgium/\n",
       "4  Argentina  /team/1369/argentina/"
      ]
     },
     "execution_count": 227,
     "metadata": {},
     "output_type": "execute_result"
    }
   ],
   "source": [
    "national_names = pd.read_csv(path+\"\\\\NationalNames.csv\")\n",
    "national_names.head(5)"
   ]
  },
  {
   "cell_type": "code",
   "execution_count": 228,
   "metadata": {},
   "outputs": [
    {
     "data": {
      "text/plain": [
       "Name    0\n",
       "url     0\n",
       "dtype: int64"
      ]
     },
     "execution_count": 228,
     "metadata": {},
     "output_type": "execute_result"
    }
   ],
   "source": [
    "national_names.isnull().sum()"
   ]
  },
  {
   "cell_type": "code",
   "execution_count": 229,
   "metadata": {},
   "outputs": [
    {
     "data": {
      "text/plain": [
       "(47, 2)"
      ]
     },
     "execution_count": 229,
     "metadata": {},
     "output_type": "execute_result"
    }
   ],
   "source": [
    "national_names.shape"
   ]
  },
  {
   "cell_type": "code",
   "execution_count": 230,
   "metadata": {},
   "outputs": [
    {
     "data": {
      "text/html": [
       "<div>\n",
       "<style scoped>\n",
       "    .dataframe tbody tr th:only-of-type {\n",
       "        vertical-align: middle;\n",
       "    }\n",
       "\n",
       "    .dataframe tbody tr th {\n",
       "        vertical-align: top;\n",
       "    }\n",
       "\n",
       "    .dataframe thead th {\n",
       "        text-align: right;\n",
       "    }\n",
       "</style>\n",
       "<table border=\"1\" class=\"dataframe\">\n",
       "  <thead>\n",
       "    <tr style=\"text-align: right;\">\n",
       "      <th></th>\n",
       "      <th>Name</th>\n",
       "      <th>url</th>\n",
       "    </tr>\n",
       "  </thead>\n",
       "  <tbody>\n",
       "    <tr>\n",
       "      <th>0</th>\n",
       "      <td>Cristiano Ronaldo</td>\n",
       "      <td>/player/20801/cristiano-ronaldo/</td>\n",
       "    </tr>\n",
       "    <tr>\n",
       "      <th>1</th>\n",
       "      <td>Lionel Messi</td>\n",
       "      <td>/player/158023/lionel-messi/</td>\n",
       "    </tr>\n",
       "    <tr>\n",
       "      <th>2</th>\n",
       "      <td>Neymar</td>\n",
       "      <td>/player/190871/neymar/</td>\n",
       "    </tr>\n",
       "    <tr>\n",
       "      <th>3</th>\n",
       "      <td>Luis Suárez</td>\n",
       "      <td>/player/176580/luis-su%C3%A1rez/</td>\n",
       "    </tr>\n",
       "    <tr>\n",
       "      <th>4</th>\n",
       "      <td>Manuel Neuer</td>\n",
       "      <td>/player/167495/manuel-neuer/</td>\n",
       "    </tr>\n",
       "  </tbody>\n",
       "</table>\n",
       "</div>"
      ],
      "text/plain": [
       "                Name                               url\n",
       "0  Cristiano Ronaldo  /player/20801/cristiano-ronaldo/\n",
       "1       Lionel Messi      /player/158023/lionel-messi/\n",
       "2             Neymar            /player/190871/neymar/\n",
       "3        Luis Suárez  /player/176580/luis-su%C3%A1rez/\n",
       "4       Manuel Neuer      /player/167495/manuel-neuer/"
      ]
     },
     "execution_count": 230,
     "metadata": {},
     "output_type": "execute_result"
    }
   ],
   "source": [
    "player_names = pd.read_csv(path+\"\\PlayerNames.csv\")\n",
    "player_names.head(5)"
   ]
  },
  {
   "cell_type": "code",
   "execution_count": 231,
   "metadata": {},
   "outputs": [
    {
     "data": {
      "text/plain": [
       "Name    0\n",
       "url     0\n",
       "dtype: int64"
      ]
     },
     "execution_count": 231,
     "metadata": {},
     "output_type": "execute_result"
    }
   ],
   "source": [
    "player_names.isnull().sum()"
   ]
  },
  {
   "cell_type": "code",
   "execution_count": 232,
   "metadata": {},
   "outputs": [
    {
     "data": {
      "text/plain": [
       "(17588, 2)"
      ]
     },
     "execution_count": 232,
     "metadata": {},
     "output_type": "execute_result"
    }
   ],
   "source": [
    "player_names.shape"
   ]
  },
  {
   "cell_type": "code",
   "execution_count": 233,
   "metadata": {},
   "outputs": [],
   "source": [
    "#BEST 3 GOAL SCORERS:"
   ]
  },
  {
   "cell_type": "code",
   "execution_count": 234,
   "metadata": {},
   "outputs": [
    {
     "data": {
      "text/html": [
       "<div>\n",
       "<style scoped>\n",
       "    .dataframe tbody tr th:only-of-type {\n",
       "        vertical-align: middle;\n",
       "    }\n",
       "\n",
       "    .dataframe tbody tr th {\n",
       "        vertical-align: top;\n",
       "    }\n",
       "\n",
       "    .dataframe thead th {\n",
       "        text-align: right;\n",
       "    }\n",
       "</style>\n",
       "<table border=\"1\" class=\"dataframe\">\n",
       "  <thead>\n",
       "    <tr style=\"text-align: right;\">\n",
       "      <th></th>\n",
       "      <th>Name</th>\n",
       "      <th>Nationality</th>\n",
       "      <th>National_Position</th>\n",
       "      <th>National_Kit</th>\n",
       "      <th>Club</th>\n",
       "      <th>Club_Position</th>\n",
       "      <th>Club_Kit</th>\n",
       "      <th>Club_Joining</th>\n",
       "      <th>Contract_Expiry</th>\n",
       "      <th>Rating</th>\n",
       "      <th>...</th>\n",
       "      <th>Long_Shots</th>\n",
       "      <th>Curve</th>\n",
       "      <th>Freekick_Accuracy</th>\n",
       "      <th>Penalties</th>\n",
       "      <th>Volleys</th>\n",
       "      <th>GK_Positioning</th>\n",
       "      <th>GK_Diving</th>\n",
       "      <th>GK_Kicking</th>\n",
       "      <th>GK_Handling</th>\n",
       "      <th>GK_Reflexes</th>\n",
       "    </tr>\n",
       "  </thead>\n",
       "  <tbody>\n",
       "    <tr>\n",
       "      <th>0</th>\n",
       "      <td>Cristiano Ronaldo</td>\n",
       "      <td>Portugal</td>\n",
       "      <td>LS</td>\n",
       "      <td>7.0</td>\n",
       "      <td>Real Madrid</td>\n",
       "      <td>LW</td>\n",
       "      <td>7.0</td>\n",
       "      <td>07/01/2009</td>\n",
       "      <td>2021.0</td>\n",
       "      <td>94</td>\n",
       "      <td>...</td>\n",
       "      <td>90</td>\n",
       "      <td>81</td>\n",
       "      <td>76</td>\n",
       "      <td>85</td>\n",
       "      <td>88</td>\n",
       "      <td>14</td>\n",
       "      <td>7</td>\n",
       "      <td>15</td>\n",
       "      <td>11</td>\n",
       "      <td>11</td>\n",
       "    </tr>\n",
       "    <tr>\n",
       "      <th>1</th>\n",
       "      <td>Lionel Messi</td>\n",
       "      <td>Argentina</td>\n",
       "      <td>RW</td>\n",
       "      <td>10.0</td>\n",
       "      <td>FC Barcelona</td>\n",
       "      <td>RW</td>\n",
       "      <td>10.0</td>\n",
       "      <td>07/01/2004</td>\n",
       "      <td>2018.0</td>\n",
       "      <td>93</td>\n",
       "      <td>...</td>\n",
       "      <td>88</td>\n",
       "      <td>89</td>\n",
       "      <td>90</td>\n",
       "      <td>74</td>\n",
       "      <td>85</td>\n",
       "      <td>14</td>\n",
       "      <td>6</td>\n",
       "      <td>15</td>\n",
       "      <td>11</td>\n",
       "      <td>8</td>\n",
       "    </tr>\n",
       "    <tr>\n",
       "      <th>3</th>\n",
       "      <td>Luis Suárez</td>\n",
       "      <td>Uruguay</td>\n",
       "      <td>LS</td>\n",
       "      <td>9.0</td>\n",
       "      <td>FC Barcelona</td>\n",
       "      <td>ST</td>\n",
       "      <td>9.0</td>\n",
       "      <td>07/11/2014</td>\n",
       "      <td>2021.0</td>\n",
       "      <td>92</td>\n",
       "      <td>...</td>\n",
       "      <td>86</td>\n",
       "      <td>86</td>\n",
       "      <td>84</td>\n",
       "      <td>85</td>\n",
       "      <td>88</td>\n",
       "      <td>33</td>\n",
       "      <td>27</td>\n",
       "      <td>31</td>\n",
       "      <td>25</td>\n",
       "      <td>37</td>\n",
       "    </tr>\n",
       "  </tbody>\n",
       "</table>\n",
       "<p>3 rows × 53 columns</p>\n",
       "</div>"
      ],
      "text/plain": [
       "                Name Nationality National_Position  National_Kit  \\\n",
       "0  Cristiano Ronaldo    Portugal                LS           7.0   \n",
       "1       Lionel Messi   Argentina                RW          10.0   \n",
       "3        Luis Suárez     Uruguay                LS           9.0   \n",
       "\n",
       "           Club Club_Position  Club_Kit Club_Joining  Contract_Expiry  Rating  \\\n",
       "0   Real Madrid            LW       7.0   07/01/2009           2021.0      94   \n",
       "1  FC Barcelona            RW      10.0   07/01/2004           2018.0      93   \n",
       "3  FC Barcelona            ST       9.0   07/11/2014           2021.0      92   \n",
       "\n",
       "      ...      Long_Shots Curve Freekick_Accuracy Penalties  Volleys  \\\n",
       "0     ...              90    81                76        85       88   \n",
       "1     ...              88    89                90        74       85   \n",
       "3     ...              86    86                84        85       88   \n",
       "\n",
       "  GK_Positioning GK_Diving  GK_Kicking  GK_Handling  GK_Reflexes  \n",
       "0             14         7          15           11           11  \n",
       "1             14         6          15           11            8  \n",
       "3             33        27          31           25           37  \n",
       "\n",
       "[3 rows x 53 columns]"
      ]
     },
     "execution_count": 234,
     "metadata": {},
     "output_type": "execute_result"
    }
   ],
   "source": [
    "player = full_data.loc[full_data['Finishing'] >92 ]\n",
    "player"
   ]
  },
  {
   "cell_type": "code",
   "execution_count": 235,
   "metadata": {},
   "outputs": [],
   "source": [
    "import matplotlib.pyplot as plt\n",
    "%matplotlib inline\n",
    "\n",
    "namelist = []\n",
    "for i in player[\"Name\"]:\n",
    "    namelist.append(i)"
   ]
  },
  {
   "cell_type": "code",
   "execution_count": 236,
   "metadata": {},
   "outputs": [
    {
     "data": {
      "text/plain": [
       "<matplotlib.image.AxesImage at 0x1a8827d0dd8>"
      ]
     },
     "execution_count": 236,
     "metadata": {},
     "output_type": "execute_result"
    },
    {
     "data": {
      "image/png": "[encoded data removed]",
      "text/plain": [
       "<Figure size 432x288 with 1 Axes>"
      ]
     },
     "metadata": {},
     "output_type": "display_data"
    }
   ],
   "source": [
    "img1 = plt.imread(path + \"\\\\Pictures\\\\\" + namelist[0] + \".png\")\n",
    "plt.title(namelist[0])\n",
    "plt.imshow(img1)"
   ]
  },
  {
   "cell_type": "code",
   "execution_count": 237,
   "metadata": {},
   "outputs": [
    {
     "data": {
      "text/plain": [
       "<matplotlib.image.AxesImage at 0x1a88281c828>"
      ]
     },
     "execution_count": 237,
     "metadata": {},
     "output_type": "execute_result"
    },
    {
     "data": {
      "image/png": "[encoded data removed]",
      "text/plain": [
       "<Figure size 432x288 with 1 Axes>"
      ]
     },
     "metadata": {},
     "output_type": "display_data"
    }
   ],
   "source": [
    "img2 = plt.imread(path + \"\\\\Pictures\\\\\" + namelist[1] + \".png\")\n",
    "plt.title(namelist[1])\n",
    "plt.imshow(img2)"
   ]
  },
  {
   "cell_type": "code",
   "execution_count": 238,
   "metadata": {},
   "outputs": [
    {
     "data": {
      "text/plain": [
       "<matplotlib.image.AxesImage at 0x1a8828752e8>"
      ]
     },
     "execution_count": 238,
     "metadata": {},
     "output_type": "execute_result"
    },
    {
     "data": {
      "image/png": "[encoded data removed]",
      "text/plain": [
       "<Figure size 432x288 with 1 Axes>"
      ]
     },
     "metadata": {},
     "output_type": "display_data"
    }
   ],
   "source": [
    "img3 = plt.imread(path + \"\\\\Pictures\\\\\" + namelist[2] + \".png\")\n",
    "plt.title(namelist[2])\n",
    "plt.imshow(img3)"
   ]
  },
  {
   "cell_type": "code",
   "execution_count": null,
   "metadata": {},
   "outputs": [],
   "source": [
    "#Attributes Of England Argentina Germany Brazil & India."
   ]
  },
  {
   "cell_type": "code",
   "execution_count": 306,
   "metadata": {},
   "outputs": [],
   "source": [
    "attributes = ['Nationality','Skill_Moves','Ball_Control','Dribbling',\n",
    "'Aggression','Reactions','Attacking_Position','Interceptions','Crossing',\n",
    "'Short_Pass','Long_Pass','Acceleration','Speed','Strength','Stamina','Balance',\n",
    "'Finishing','Penalties']"
   ]
  },
  {
   "cell_type": "code",
   "execution_count": 307,
   "metadata": {},
   "outputs": [
    {
     "data": {
      "text/html": [
       "<div>\n",
       "<style scoped>\n",
       "    .dataframe tbody tr th:only-of-type {\n",
       "        vertical-align: middle;\n",
       "    }\n",
       "\n",
       "    .dataframe tbody tr th {\n",
       "        vertical-align: top;\n",
       "    }\n",
       "\n",
       "    .dataframe thead th {\n",
       "        text-align: right;\n",
       "    }\n",
       "</style>\n",
       "<table border=\"1\" class=\"dataframe\">\n",
       "  <thead>\n",
       "    <tr style=\"text-align: right;\">\n",
       "      <th></th>\n",
       "      <th>Nationality</th>\n",
       "      <th>Skill_Moves</th>\n",
       "      <th>Ball_Control</th>\n",
       "      <th>Dribbling</th>\n",
       "      <th>Aggression</th>\n",
       "      <th>Reactions</th>\n",
       "      <th>Attacking_Position</th>\n",
       "      <th>Interceptions</th>\n",
       "      <th>Crossing</th>\n",
       "      <th>Short_Pass</th>\n",
       "      <th>Long_Pass</th>\n",
       "      <th>Acceleration</th>\n",
       "      <th>Speed</th>\n",
       "      <th>Strength</th>\n",
       "      <th>Stamina</th>\n",
       "      <th>Balance</th>\n",
       "      <th>Finishing</th>\n",
       "      <th>Penalties</th>\n",
       "    </tr>\n",
       "  </thead>\n",
       "  <tbody>\n",
       "    <tr>\n",
       "      <th>0</th>\n",
       "      <td>Portugal</td>\n",
       "      <td>5</td>\n",
       "      <td>93</td>\n",
       "      <td>92</td>\n",
       "      <td>63</td>\n",
       "      <td>96</td>\n",
       "      <td>94</td>\n",
       "      <td>29</td>\n",
       "      <td>84</td>\n",
       "      <td>83</td>\n",
       "      <td>77</td>\n",
       "      <td>91</td>\n",
       "      <td>92</td>\n",
       "      <td>80</td>\n",
       "      <td>92</td>\n",
       "      <td>63</td>\n",
       "      <td>93</td>\n",
       "      <td>85</td>\n",
       "    </tr>\n",
       "    <tr>\n",
       "      <th>1</th>\n",
       "      <td>Argentina</td>\n",
       "      <td>4</td>\n",
       "      <td>95</td>\n",
       "      <td>97</td>\n",
       "      <td>48</td>\n",
       "      <td>95</td>\n",
       "      <td>93</td>\n",
       "      <td>22</td>\n",
       "      <td>77</td>\n",
       "      <td>88</td>\n",
       "      <td>87</td>\n",
       "      <td>92</td>\n",
       "      <td>87</td>\n",
       "      <td>59</td>\n",
       "      <td>74</td>\n",
       "      <td>95</td>\n",
       "      <td>95</td>\n",
       "      <td>74</td>\n",
       "    </tr>\n",
       "    <tr>\n",
       "      <th>2</th>\n",
       "      <td>Brazil</td>\n",
       "      <td>5</td>\n",
       "      <td>95</td>\n",
       "      <td>96</td>\n",
       "      <td>56</td>\n",
       "      <td>88</td>\n",
       "      <td>90</td>\n",
       "      <td>36</td>\n",
       "      <td>75</td>\n",
       "      <td>81</td>\n",
       "      <td>75</td>\n",
       "      <td>93</td>\n",
       "      <td>90</td>\n",
       "      <td>49</td>\n",
       "      <td>79</td>\n",
       "      <td>82</td>\n",
       "      <td>89</td>\n",
       "      <td>81</td>\n",
       "    </tr>\n",
       "    <tr>\n",
       "      <th>3</th>\n",
       "      <td>Uruguay</td>\n",
       "      <td>4</td>\n",
       "      <td>91</td>\n",
       "      <td>86</td>\n",
       "      <td>78</td>\n",
       "      <td>93</td>\n",
       "      <td>92</td>\n",
       "      <td>41</td>\n",
       "      <td>77</td>\n",
       "      <td>83</td>\n",
       "      <td>64</td>\n",
       "      <td>88</td>\n",
       "      <td>77</td>\n",
       "      <td>76</td>\n",
       "      <td>89</td>\n",
       "      <td>60</td>\n",
       "      <td>94</td>\n",
       "      <td>85</td>\n",
       "    </tr>\n",
       "    <tr>\n",
       "      <th>4</th>\n",
       "      <td>Germany</td>\n",
       "      <td>1</td>\n",
       "      <td>48</td>\n",
       "      <td>30</td>\n",
       "      <td>29</td>\n",
       "      <td>85</td>\n",
       "      <td>12</td>\n",
       "      <td>30</td>\n",
       "      <td>15</td>\n",
       "      <td>55</td>\n",
       "      <td>59</td>\n",
       "      <td>58</td>\n",
       "      <td>61</td>\n",
       "      <td>83</td>\n",
       "      <td>44</td>\n",
       "      <td>35</td>\n",
       "      <td>13</td>\n",
       "      <td>47</td>\n",
       "    </tr>\n",
       "  </tbody>\n",
       "</table>\n",
       "</div>"
      ],
      "text/plain": [
       "  Nationality  Skill_Moves  Ball_Control  Dribbling  Aggression  Reactions  \\\n",
       "0    Portugal            5            93         92          63         96   \n",
       "1   Argentina            4            95         97          48         95   \n",
       "2      Brazil            5            95         96          56         88   \n",
       "3     Uruguay            4            91         86          78         93   \n",
       "4     Germany            1            48         30          29         85   \n",
       "\n",
       "   Attacking_Position  Interceptions  Crossing  Short_Pass  Long_Pass  \\\n",
       "0                  94             29        84          83         77   \n",
       "1                  93             22        77          88         87   \n",
       "2                  90             36        75          81         75   \n",
       "3                  92             41        77          83         64   \n",
       "4                  12             30        15          55         59   \n",
       "\n",
       "   Acceleration  Speed  Strength  Stamina  Balance  Finishing  Penalties  \n",
       "0            91     92        80       92       63         93         85  \n",
       "1            92     87        59       74       95         95         74  \n",
       "2            93     90        49       79       82         89         81  \n",
       "3            88     77        76       89       60         94         85  \n",
       "4            58     61        83       44       35         13         47  "
      ]
     },
     "execution_count": 307,
     "metadata": {},
     "output_type": "execute_result"
    }
   ],
   "source": [
    "data = full_data[attributes]\n",
    "data.head(5)"
   ]
  },
  {
   "cell_type": "code",
   "execution_count": 351,
   "metadata": {},
   "outputs": [],
   "source": [
    "England = data.loc[data[\"Nationality\"]==\"England\"]\n",
    "Argentina = data.loc[data[\"Nationality\"]==\"Argentina\"]\n",
    "Germany = data.loc[data[\"Nationality\"]==\"Germany\"]\n",
    "Brazil = data.loc[data[\"Nationality\"]==\"Brazil\"]\n",
    "India = data.loc[data[\"Nationality\"]==\"India\"]"
   ]
  },
  {
   "cell_type": "code",
   "execution_count": 374,
   "metadata": {},
   "outputs": [
    {
     "data": {
      "text/plain": [
       "Nationality           England\n",
       "Skill_Moves                 4\n",
       "Ball_Control               86\n",
       "Dribbling                  86\n",
       "Aggression                 93\n",
       "Reactions                  85\n",
       "Attacking_Position         87\n",
       "Interceptions              83\n",
       "Crossing                   88\n",
       "Short_Pass                 87\n",
       "Long_Pass                  85\n",
       "Acceleration               94\n",
       "Speed                      94\n",
       "Strength                   98\n",
       "Stamina                    94\n",
       "Balance                    97\n",
       "Finishing                  88\n",
       "Penalties                  96\n",
       "dtype: object"
      ]
     },
     "execution_count": 374,
     "metadata": {},
     "output_type": "execute_result"
    }
   ],
   "source": [
    "England.max()"
   ]
  },
  {
   "cell_type": "code",
   "execution_count": 381,
   "metadata": {},
   "outputs": [
    {
     "data": {
      "text/plain": [
       "Nationality           Argentina\n",
       "Skill_Moves                   5\n",
       "Ball_Control                 95\n",
       "Dribbling                    97\n",
       "Aggression                   92\n",
       "Reactions                    95\n",
       "Attacking_Position           93\n",
       "Interceptions                90\n",
       "Crossing                     88\n",
       "Short_Pass                   88\n",
       "Long_Pass                    87\n",
       "Acceleration                 94\n",
       "Speed                        94\n",
       "Strength                     92\n",
       "Stamina                      92\n",
       "Balance                      96\n",
       "Finishing                    95\n",
       "Penalties                    84\n",
       "dtype: object"
      ]
     },
     "execution_count": 381,
     "metadata": {},
     "output_type": "execute_result"
    }
   ],
   "source": [
    "Argentina.max()"
   ]
  },
  {
   "cell_type": "code",
   "execution_count": 382,
   "metadata": {},
   "outputs": [
    {
     "data": {
      "text/plain": [
       "Nationality           Germany\n",
       "Skill_Moves                 4\n",
       "Ball_Control               90\n",
       "Dribbling                  88\n",
       "Aggression                 91\n",
       "Reactions                  92\n",
       "Attacking_Position         93\n",
       "Interceptions              93\n",
       "Crossing                   86\n",
       "Short_Pass                 90\n",
       "Long_Pass                  93\n",
       "Acceleration               93\n",
       "Speed                      93\n",
       "Strength                   94\n",
       "Stamina                    93\n",
       "Balance                    93\n",
       "Finishing                  87\n",
       "Penalties                  86\n",
       "dtype: object"
      ]
     },
     "execution_count": 382,
     "metadata": {},
     "output_type": "execute_result"
    }
   ],
   "source": [
    "Germany.max()"
   ]
  },
  {
   "cell_type": "code",
   "execution_count": 383,
   "metadata": {},
   "outputs": [
    {
     "data": {
      "text/plain": [
       "Nationality           Brazil\n",
       "Skill_Moves                5\n",
       "Ball_Control              95\n",
       "Dribbling                 96\n",
       "Aggression                96\n",
       "Reactions                 88\n",
       "Attacking_Position        90\n",
       "Interceptions             91\n",
       "Crossing                  87\n",
       "Short_Pass                86\n",
       "Long_Pass                 84\n",
       "Acceleration              96\n",
       "Speed                     92\n",
       "Strength                  92\n",
       "Stamina                   94\n",
       "Balance                   96\n",
       "Finishing                 89\n",
       "Penalties                 88\n",
       "dtype: object"
      ]
     },
     "execution_count": 383,
     "metadata": {},
     "output_type": "execute_result"
    }
   ],
   "source": [
    "Brazil.max()"
   ]
  },
  {
   "cell_type": "code",
   "execution_count": 384,
   "metadata": {},
   "outputs": [
    {
     "data": {
      "text/plain": [
       "Nationality           India\n",
       "Skill_Moves               3\n",
       "Ball_Control             68\n",
       "Dribbling                65\n",
       "Aggression               58\n",
       "Reactions                65\n",
       "Attacking_Position       65\n",
       "Interceptions            66\n",
       "Crossing                 64\n",
       "Short_Pass               69\n",
       "Long_Pass                66\n",
       "Acceleration             86\n",
       "Speed                    83\n",
       "Strength                 79\n",
       "Stamina                  71\n",
       "Balance                  84\n",
       "Finishing                71\n",
       "Penalties                73\n",
       "dtype: object"
      ]
     },
     "execution_count": 384,
     "metadata": {},
     "output_type": "execute_result"
    }
   ],
   "source": [
    "India.max()"
   ]
  },
  {
   "cell_type": "code",
   "execution_count": null,
   "metadata": {},
   "outputs": [],
   "source": [
    "#Players pie chart from 5 different Nations"
   ]
  },
  {
   "cell_type": "code",
   "execution_count": 435,
   "metadata": {},
   "outputs": [
    {
     "data": {
      "image/png": "[encoded data removed]",
      "text/plain": [
       "<Figure size 432x288 with 1 Axes>"
      ]
     },
     "metadata": {},
     "output_type": "display_data"
    }
   ],
   "source": [
    "labels = 'England', 'Argentina', 'Germany', \"India\", \"Brazil\"\n",
    "sizes = [England[\"Nationality\"].count(), Argentina[\"Nationality\"].count(), Germany[\"Nationality\"].count(), India[\"Nationality\"].count(), Brazil[\"Nationality\"].count()]\n",
    "\n",
    "plt.pie(sizes, labels=labels,\n",
    "        autopct='%1.1f%%', shadow=True, startangle=140)\n",
    " \n",
    "plt.axis('equal')\n",
    "plt.show()"
   ]
  },
  {
   "cell_type": "code",
   "execution_count": 406,
   "metadata": {},
   "outputs": [],
   "source": [
    "#Most Skilled Player"
   ]
  },
  {
   "cell_type": "code",
   "execution_count": 401,
   "metadata": {},
   "outputs": [
    {
     "data": {
      "text/plain": [
       "Name                           De Gea\n",
       "Nationality                     Spain\n",
       "National_Position                  GK\n",
       "National_Kit                        1\n",
       "Club                   Manchester Utd\n",
       "Club_Position                      GK\n",
       "Club_Kit                            1\n",
       "Club_Joining               07/01/2011\n",
       "Contract_Expiry                  2019\n",
       "Rating                             90\n",
       "Height                         193 cm\n",
       "Weight                          82 kg\n",
       "Preffered_Foot                  Right\n",
       "Birth_Date                 11/07/1990\n",
       "Age                                26\n",
       "Preffered_Position                 GK\n",
       "Work_Rate             Medium / Medium\n",
       "Weak_foot                           3\n",
       "Skill_Moves                         1\n",
       "Ball_Control                       31\n",
       "Dribbling                          13\n",
       "Marking                            13\n",
       "Sliding_Tackle                     13\n",
       "Standing_Tackle                    21\n",
       "Aggression                         38\n",
       "Reactions                          88\n",
       "Attacking_Position                 12\n",
       "Interceptions                      30\n",
       "Vision                             68\n",
       "Composure                          60\n",
       "Crossing                           17\n",
       "Short_Pass                         31\n",
       "Long_Pass                          32\n",
       "Acceleration                       56\n",
       "Speed                              56\n",
       "Stamina                            25\n",
       "Strength                           64\n",
       "Balance                            43\n",
       "Agility                            57\n",
       "Jumping                            67\n",
       "Heading                            21\n",
       "Shot_Power                         31\n",
       "Finishing                          13\n",
       "Long_Shots                         12\n",
       "Curve                              21\n",
       "Freekick_Accuracy                  19\n",
       "Penalties                          40\n",
       "Volleys                            13\n",
       "GK_Positioning                     86\n",
       "GK_Diving                          88\n",
       "GK_Kicking                         87\n",
       "GK_Handling                        85\n",
       "GK_Reflexes                        90\n",
       "Name: 5, dtype: object"
      ]
     },
     "execution_count": 401,
     "metadata": {},
     "output_type": "execute_result"
    }
   ],
   "source": [
    "best_skills = full_data.loc[full_data[\"Skill_Moves\"].max()]\n",
    "best_skills"
   ]
  },
  {
   "cell_type": "code",
   "execution_count": null,
   "metadata": {},
   "outputs": [],
   "source": [
    "#Most Aggressive Player"
   ]
  },
  {
   "cell_type": "code",
   "execution_count": 405,
   "metadata": {},
   "outputs": [
    {
     "data": {
      "text/plain": [
       "Name                  Nicolás Otamendi\n",
       "Nationality                  Argentina\n",
       "National_Position                  RCB\n",
       "National_Kit                        17\n",
       "Club                   Manchester City\n",
       "Club_Position                      LCB\n",
       "Club_Kit                            30\n",
       "Club_Joining                08/20/2015\n",
       "Contract_Expiry                   2020\n",
       "Rating                              84\n",
       "Height                          183 cm\n",
       "Weight                           81 kg\n",
       "Preffered_Foot                   Right\n",
       "Birth_Date                  02/12/1988\n",
       "Age                                 29\n",
       "Preffered_Position                  CB\n",
       "Work_Rate                  High / High\n",
       "Weak_foot                            3\n",
       "Skill_Moves                          2\n",
       "Ball_Control                        64\n",
       "Dribbling                           41\n",
       "Marking                             81\n",
       "Sliding_Tackle                      83\n",
       "Standing_Tackle                     84\n",
       "Aggression                          89\n",
       "Reactions                           78\n",
       "Attacking_Position                  49\n",
       "Interceptions                       82\n",
       "Vision                              45\n",
       "Composure                           74\n",
       "Crossing                            52\n",
       "Short_Pass                          70\n",
       "Long_Pass                           66\n",
       "Acceleration                        68\n",
       "Speed                               75\n",
       "Stamina                             78\n",
       "Strength                            81\n",
       "Balance                             62\n",
       "Agility                             71\n",
       "Jumping                             90\n",
       "Heading                             85\n",
       "Shot_Power                          69\n",
       "Finishing                           53\n",
       "Long_Shots                          56\n",
       "Curve                               50\n",
       "Freekick_Accuracy                   39\n",
       "Penalties                           44\n",
       "Volleys                             56\n",
       "GK_Positioning                      11\n",
       "GK_Diving                           12\n",
       "GK_Kicking                           8\n",
       "GK_Handling                          5\n",
       "GK_Reflexes                         12\n",
       "Name: 96, dtype: object"
      ]
     },
     "execution_count": 405,
     "metadata": {},
     "output_type": "execute_result"
    }
   ],
   "source": [
    "aggression = full_data.loc[full_data[\"Aggression\"].max()]\n",
    "aggression"
   ]
  },
  {
   "cell_type": "code",
   "execution_count": 438,
   "metadata": {},
   "outputs": [],
   "source": [
    "#Contract Expires in 2019 using pie chart"
   ]
  },
  {
   "cell_type": "code",
   "execution_count": 419,
   "metadata": {},
   "outputs": [
    {
     "data": {
      "text/plain": [
       "8603"
      ]
     },
     "execution_count": 419,
     "metadata": {},
     "output_type": "execute_result"
    }
   ],
   "source": [
    "expiry = full_data.loc[full_data[\"Contract_Expiry\"]<2019]\n",
    "expiry[\"Name\"].count()"
   ]
  },
  {
   "cell_type": "code",
   "execution_count": 436,
   "metadata": {},
   "outputs": [
    {
     "data": {
      "image/png": "[encoded data removed]",
      "text/plain": [
       "<Figure size 432x288 with 1 Axes>"
      ]
     },
     "metadata": {},
     "output_type": "display_data"
    }
   ],
   "source": [
    "labels = 'Expiry before 2019', 'Left Over'\n",
    "sizes = [expiry[\"Name\"].count(), full_data[\"Name\"].count()]\n",
    "colors = ['yellowgreen', 'lightskyblue']\n",
    "\n",
    "plt.pie(sizes, labels=labels, colors=colors,\n",
    "        autopct='%1.1f%%', shadow=True, startangle=140)\n",
    " \n",
    "plt.axis('equal')\n",
    "plt.show()"
   ]
  },
  {
   "cell_type": "code",
   "execution_count": null,
   "metadata": {},
   "outputs": [],
   "source": []
  }
 ],
 "metadata": {
  "kernelspec": {
   "display_name": "Python 3",
   "language": "python",
   "name": "python3"
  },
  "language_info": {
   "codemirror_mode": {
    "name": "ipython",
    "version": 3
   },
   "file_extension": ".py",
   "mimetype": "text/x-python",
   "name": "python",
   "nbconvert_exporter": "python",
   "pygments_lexer": "ipython3",
   "version": "3.6.5"
  }
 },
 "nbformat": 4,
 "nbformat_minor": 2
}
